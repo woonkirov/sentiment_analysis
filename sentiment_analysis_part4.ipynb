{
  "nbformat": 4,
  "nbformat_minor": 0,
  "metadata": {
    "colab": {
      "name": "cp2_DB_part4.ipynb",
      "provenance": [],
      "collapsed_sections": []
    },
    "kernelspec": {
      "name": "python3",
      "display_name": "Python 3"
    },
    "language_info": {
      "name": "python"
    },
    "accelerator": "GPU"
  },
  "cells": [
    {
      "cell_type": "code",
      "source": [
        "!pip install soynlp emoji"
      ],
      "metadata": {
        "colab": {
          "base_uri": "https://localhost:8080/"
        },
        "id": "f0eo05Px-7m1",
        "outputId": "49944b2a-3209-4f19-bfe4-5b633c14c9f3"
      },
      "execution_count": null,
      "outputs": [
        {
          "output_type": "stream",
          "name": "stdout",
          "text": [
            "Collecting soynlp\n",
            "  Downloading soynlp-0.0.493-py3-none-any.whl (416 kB)\n",
            "\u001b[K     |████████████████████████████████| 416 kB 4.2 MB/s \n",
            "\u001b[?25hCollecting emoji\n",
            "  Downloading emoji-1.7.0.tar.gz (175 kB)\n",
            "\u001b[K     |████████████████████████████████| 175 kB 54.7 MB/s \n",
            "\u001b[?25hRequirement already satisfied: psutil>=5.0.1 in /usr/local/lib/python3.7/dist-packages (from soynlp) (5.4.8)\n",
            "Requirement already satisfied: scipy>=1.1.0 in /usr/local/lib/python3.7/dist-packages (from soynlp) (1.4.1)\n",
            "Requirement already satisfied: numpy>=1.12.1 in /usr/local/lib/python3.7/dist-packages (from soynlp) (1.21.5)\n",
            "Requirement already satisfied: scikit-learn>=0.20.0 in /usr/local/lib/python3.7/dist-packages (from soynlp) (1.0.2)\n",
            "Requirement already satisfied: joblib>=0.11 in /usr/local/lib/python3.7/dist-packages (from scikit-learn>=0.20.0->soynlp) (1.1.0)\n",
            "Requirement already satisfied: threadpoolctl>=2.0.0 in /usr/local/lib/python3.7/dist-packages (from scikit-learn>=0.20.0->soynlp) (3.1.0)\n",
            "Building wheels for collected packages: emoji\n",
            "  Building wheel for emoji (setup.py) ... \u001b[?25l\u001b[?25hdone\n",
            "  Created wheel for emoji: filename=emoji-1.7.0-py3-none-any.whl size=171046 sha256=3996f398cbff22f1ac4ea24c87acf26afee2e62d2eb629dd361caa90c3e70980\n",
            "  Stored in directory: /root/.cache/pip/wheels/8a/4e/b6/57b01db010d17ef6ea9b40300af725ef3e210cb1acfb7ac8b6\n",
            "Successfully built emoji\n",
            "Installing collected packages: soynlp, emoji\n",
            "Successfully installed emoji-1.7.0 soynlp-0.0.493\n"
          ]
        }
      ]
    },
    {
      "cell_type": "code",
      "source": [
        "try:\n",
        "  from category_encoders import OneHotEncoder\n",
        "  from konlpy.tag import Okt\n",
        "except:\n",
        "  !pip install category_encoders\n",
        "  !pip install konlpy"
      ],
      "metadata": {
        "colab": {
          "base_uri": "https://localhost:8080/"
        },
        "id": "bTB_PppAyWvL",
        "outputId": "1341552f-c627-42fa-b770-c02b3d3d27b1"
      },
      "execution_count": null,
      "outputs": [
        {
          "output_type": "stream",
          "name": "stderr",
          "text": [
            "/usr/local/lib/python3.7/dist-packages/statsmodels/tools/_testing.py:19: FutureWarning: pandas.util.testing is deprecated. Use the functions in the public API at pandas.testing instead.\n",
            "  import pandas.util.testing as tm\n"
          ]
        }
      ]
    },
    {
      "cell_type": "code",
      "source": [
        "import pandas as pd\n",
        "import numpy as np\n",
        "import re\n",
        "import emoji\n",
        "from google.colab import files\n",
        "from category_encoders import OneHotEncoder\n",
        "from konlpy.tag import Okt\n",
        "from soynlp.normalizer import repeat_normalize"
      ],
      "metadata": {
        "id": "I33vWeqOUoEq"
      },
      "execution_count": null,
      "outputs": []
    },
    {
      "cell_type": "code",
      "execution_count": null,
      "metadata": {
        "id": "ckIBrKKsG9bz"
      },
      "outputs": [],
      "source": [
        "df_chat = pd.read_csv('DB_labeling_final.csv')\n",
        "df_chat"
      ]
    },
    {
      "cell_type": "code",
      "source": [
        "df_chat.isnull().sum(), df_chat.duplicated().sum()"
      ],
      "metadata": {
        "id": "v6sRa_XTaEPH"
      },
      "execution_count": null,
      "outputs": []
    },
    {
      "cell_type": "code",
      "source": [
        "df_chat.dtypes"
      ],
      "metadata": {
        "id": "mwKznUrABIHM"
      },
      "execution_count": null,
      "outputs": []
    },
    {
      "cell_type": "code",
      "source": [
        "df_chat.label_KcELECTRA.value_counts()"
      ],
      "metadata": {
        "id": "aRK0mN8ymeB7"
      },
      "execution_count": null,
      "outputs": []
    },
    {
      "cell_type": "code",
      "source": [
        "df_chat.created_at = df_chat.created_at.apply(lambda x : x.split('+')[0])\n",
        "df_chat.created_at = pd.to_datetime(df_chat.created_at)\n",
        "df_chat"
      ],
      "metadata": {
        "id": "zEXDT8rwaZoQ"
      },
      "execution_count": null,
      "outputs": []
    },
    {
      "cell_type": "code",
      "source": [
        "def to_string(x):\n",
        "  if x == 0:\n",
        "    x = '부정'\n",
        "  else:\n",
        "    x = '긍정'\n",
        "  \n",
        "  return x"
      ],
      "metadata": {
        "id": "LX1VQubPUhRm"
      },
      "execution_count": null,
      "outputs": []
    },
    {
      "cell_type": "code",
      "source": [
        "df_chat.label_lexicon = df_chat.label_lexicon.apply(lambda x : to_string(x))\n",
        "df_chat.label_KcELECTRA = df_chat.label_KcELECTRA.apply(lambda x : to_string(x))\n",
        "\n",
        "df_chat"
      ],
      "metadata": {
        "id": "qI6DJBreU6ih"
      },
      "execution_count": null,
      "outputs": []
    },
    {
      "cell_type": "code",
      "source": [
        "enc = OneHotEncoder()\n",
        "chat_onehot = enc.fit_transform(df_chat.label_KcELECTRA) # 1: 부정, 2: 긍정\n",
        "chat_onehot"
      ],
      "metadata": {
        "id": "K9K-dB7eBlKC"
      },
      "execution_count": null,
      "outputs": []
    },
    {
      "cell_type": "code",
      "source": [
        "df = pd.concat([df_chat, chat_onehot], axis = 1)\n",
        "df.to_csv('db_labeling_oh.csv', encoding = 'utf-8-sig')\n",
        "files.download('db_labeling_oh.csv')"
      ],
      "metadata": {
        "colab": {
          "base_uri": "https://localhost:8080/",
          "height": 17
        },
        "id": "gIrUkWz8SaAK",
        "outputId": "eb95692c-4060-4a16-82fb-8bea6a778543"
      },
      "execution_count": null,
      "outputs": [
        {
          "output_type": "display_data",
          "data": {
            "text/plain": [
              "<IPython.core.display.Javascript object>"
            ],
            "application/javascript": [
              "\n",
              "    async function download(id, filename, size) {\n",
              "      if (!google.colab.kernel.accessAllowed) {\n",
              "        return;\n",
              "      }\n",
              "      const div = document.createElement('div');\n",
              "      const label = document.createElement('label');\n",
              "      label.textContent = `Downloading \"${filename}\": `;\n",
              "      div.appendChild(label);\n",
              "      const progress = document.createElement('progress');\n",
              "      progress.max = size;\n",
              "      div.appendChild(progress);\n",
              "      document.body.appendChild(div);\n",
              "\n",
              "      const buffers = [];\n",
              "      let downloaded = 0;\n",
              "\n",
              "      const channel = await google.colab.kernel.comms.open(id);\n",
              "      // Send a message to notify the kernel that we're ready.\n",
              "      channel.send({})\n",
              "\n",
              "      for await (const message of channel.messages) {\n",
              "        // Send a message to notify the kernel that we're ready.\n",
              "        channel.send({})\n",
              "        if (message.buffers) {\n",
              "          for (const buffer of message.buffers) {\n",
              "            buffers.push(buffer);\n",
              "            downloaded += buffer.byteLength;\n",
              "            progress.value = downloaded;\n",
              "          }\n",
              "        }\n",
              "      }\n",
              "      const blob = new Blob(buffers, {type: 'application/binary'});\n",
              "      const a = document.createElement('a');\n",
              "      a.href = window.URL.createObjectURL(blob);\n",
              "      a.download = filename;\n",
              "      div.appendChild(a);\n",
              "      a.click();\n",
              "      div.remove();\n",
              "    }\n",
              "  "
            ]
          },
          "metadata": {}
        },
        {
          "output_type": "display_data",
          "data": {
            "text/plain": [
              "<IPython.core.display.Javascript object>"
            ],
            "application/javascript": [
              "download(\"download_f2d7595d-f57b-4a3c-a744-725a36363292\", \"db_labeling_oh.csv\", 34342597)"
            ]
          },
          "metadata": {}
        }
      ]
    }
  ]
}